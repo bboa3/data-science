{
 "cells": [
  {
   "cell_type": "code",
   "execution_count": 4,
   "id": "160cc1c6",
   "metadata": {},
   "outputs": [
    {
     "name": "stdout",
     "output_type": "stream",
     "text": [
      "0     Blue\n",
      "1      Red\n",
      "2    Green\n",
      "dtype: category\n",
      "Categories (3, object): ['Blue', 'Green', 'Red']\n",
      "\n",
      "0      NaN\n",
      "1    Green\n",
      "2      Red\n",
      "3     Blue\n",
      "4      NaN\n",
      "dtype: category\n",
      "Categories (3, object): ['Blue', 'Green', 'Red']\n",
      "\n",
      "0    True\n",
      "4    True\n",
      "dtype: bool\n"
     ]
    }
   ],
   "source": [
    "import pandas as pd\n",
    "\n",
    "car_colors = pd.Series(['Blue', 'Red', 'Green'], dtype='category')\n",
    "\n",
    "car_data = pd.Series(pd.Categorical(\n",
    "    ['Yellow', 'Green', 'Red', 'Blue', 'Purple'],\n",
    "    categories=car_colors,\n",
    "    ordered=False)\n",
    ")\n",
    "\n",
    "find_entries = pd.isnull(car_data)\n",
    "\n",
    "print(car_colors)\n",
    "print()\n",
    "print(car_data)\n",
    "print()\n",
    "print(find_entries[find_entries == True])"
   ]
  },
  {
   "cell_type": "code",
   "execution_count": 8,
   "id": "cf900cd4",
   "metadata": {},
   "outputs": [
    {
     "name": "stdout",
     "output_type": "stream",
     "text": [
      "2022-07-28 12:28:29.811250\n",
      "Thu, 28 July 2022\n"
     ]
    }
   ],
   "source": [
    "import datetime as dt\n",
    "\n",
    "now = dt.datetime.now()\n",
    "print(str(now))\n",
    "print(now.strftime('%a, %d %B %Y'))\n"
   ]
  },
  {
   "cell_type": "code",
   "execution_count": 9,
   "id": "0346fdae",
   "metadata": {},
   "outputs": [
    {
     "name": "stdout",
     "output_type": "stream",
     "text": [
      "12:31:28\n",
      "14:31:28\n",
      "2:00:00\n"
     ]
    }
   ],
   "source": [
    "import datetime as dt\n",
    "\n",
    "now = dt.datetime.now()\n",
    "\n",
    "timevalue = now + dt.timedelta(hours=2)\n",
    "\n",
    "print(now.strftime('%H:%M:%S'))\n",
    "print(timevalue.strftime('%H:%M:%S'))\n",
    "print(timevalue - now)"
   ]
  },
  {
   "cell_type": "code",
   "execution_count": 11,
   "id": "395bf6c1",
   "metadata": {},
   "outputs": [
    {
     "ename": "ImportError",
     "evalue": "cannot import name 'Imputer' from 'sklearn.preprocessing' (C:\\ProgramData\\Anaconda3\\lib\\site-packages\\sklearn\\preprocessing\\__init__.py)",
     "output_type": "error",
     "traceback": [
      "\u001b[1;31m---------------------------------------------------------------------------\u001b[0m",
      "\u001b[1;31mImportError\u001b[0m                               Traceback (most recent call last)",
      "Input \u001b[1;32mIn [11]\u001b[0m, in \u001b[0;36m<cell line: 3>\u001b[1;34m()\u001b[0m\n\u001b[0;32m      1\u001b[0m \u001b[38;5;28;01mimport\u001b[39;00m \u001b[38;5;21;01mpandas\u001b[39;00m \u001b[38;5;28;01mas\u001b[39;00m \u001b[38;5;21;01mpd\u001b[39;00m\n\u001b[0;32m      2\u001b[0m \u001b[38;5;28;01mimport\u001b[39;00m \u001b[38;5;21;01mnumpy\u001b[39;00m \u001b[38;5;28;01mas\u001b[39;00m \u001b[38;5;21;01mnp\u001b[39;00m\n\u001b[1;32m----> 3\u001b[0m \u001b[38;5;28;01mfrom\u001b[39;00m \u001b[38;5;21;01msklearn\u001b[39;00m\u001b[38;5;21;01m.\u001b[39;00m\u001b[38;5;21;01mpreprocessing\u001b[39;00m \u001b[38;5;28;01mimport\u001b[39;00m Imputer\n\u001b[0;32m      5\u001b[0m s \u001b[38;5;241m=\u001b[39m [[\u001b[38;5;241m1\u001b[39m, \u001b[38;5;241m2\u001b[39m, \u001b[38;5;241m3\u001b[39m, np\u001b[38;5;241m.\u001b[39mNaN, \u001b[38;5;241m5\u001b[39m, \u001b[38;5;241m6\u001b[39m, \u001b[38;5;28;01mNone\u001b[39;00m]]\n\u001b[0;32m      7\u001b[0m imp \u001b[38;5;241m=\u001b[39m Imputer(missing_values\u001b[38;5;241m=\u001b[39m\u001b[38;5;124m'\u001b[39m\u001b[38;5;124mNaN\u001b[39m\u001b[38;5;124m'\u001b[39m, strategy\u001b[38;5;241m=\u001b[39m\u001b[38;5;124m'\u001b[39m\u001b[38;5;124mmean\u001b[39m\u001b[38;5;124m'\u001b[39m, axis\u001b[38;5;241m=\u001b[39m\u001b[38;5;241m0\u001b[39m)\n",
      "\u001b[1;31mImportError\u001b[0m: cannot import name 'Imputer' from 'sklearn.preprocessing' (C:\\ProgramData\\Anaconda3\\lib\\site-packages\\sklearn\\preprocessing\\__init__.py)"
     ]
    }
   ],
   "source": [
    "import pandas as pd\n",
    "import numpy as np\n",
    "from sklearn.preprocessing import Imputer\n",
    "\n",
    "s = [[1, 2, 3, np.NaN, 5, 6, None]]\n",
    "\n",
    "imp = Imputer(missing_values='NaN', strategy='mean', axis=0)\n",
    "\n",
    "imp.fit([[1, 2, 3, 4, 5, 6, 7]])\n",
    "\n",
    "x = pd.Series(imp.transform(s).tolist()[0])\n",
    "\n",
    "print(x)\n"
   ]
  },
  {
   "cell_type": "code",
   "execution_count": 12,
   "id": "082c61b0",
   "metadata": {},
   "outputs": [
    {
     "data": {
      "text/plain": [
       "array([[11, 12, 13],\n",
       "       [14, 15, 16],\n",
       "       [17, 18, 19]])"
      ]
     },
     "execution_count": 12,
     "metadata": {},
     "output_type": "execute_result"
    }
   ],
   "source": [
    "x = np.array([[[1, 2, 3], [4, 5, 6], [7, 8, 9],],\n",
    "[[11,12,13], [14,15,16], [17,18,19],],\n",
    "[[21,22,23], [24,25,26], [27,28,29]]])\n",
    "\n",
    "x[1]\n"
   ]
  },
  {
   "cell_type": "code",
   "execution_count": 13,
   "id": "61d4e0ea",
   "metadata": {},
   "outputs": [
    {
     "data": {
      "text/plain": [
       "array([[ 4,  5,  6],\n",
       "       [14, 15, 16],\n",
       "       [24, 25, 26]])"
      ]
     },
     "execution_count": 13,
     "metadata": {},
     "output_type": "execute_result"
    }
   ],
   "source": [
    "x = np.array([[[1, 2, 3], [4, 5, 6], [7, 8, 9],],\n",
    "[[11,12,13], [14,15,16], [17,18,19],],\n",
    "[[21,22,23], [24,25,26], [27,28,29]]])\n",
    "\n",
    "x[:,1]\n"
   ]
  },
  {
   "cell_type": "code",
   "execution_count": 14,
   "id": "a92db947",
   "metadata": {},
   "outputs": [
    {
     "name": "stdout",
     "output_type": "stream",
     "text": [
      "   A  B  C\n",
      "0  2  1  5\n",
      "2  1  3  4\n",
      "\n",
      "   A  C\n",
      "0  2  5\n",
      "2  1  4\n"
     ]
    },
    {
     "name": "stderr",
     "output_type": "stream",
     "text": [
      "C:\\Users\\Arlindo Boa\\AppData\\Local\\Temp\\ipykernel_4152\\2281840648.py:7: FutureWarning: In a future version of pandas all arguments of DataFrame.drop except for the argument 'labels' will be keyword-only.\n",
      "  df = df.drop('B', 1)\n"
     ]
    }
   ],
   "source": [
    "import pandas as pd\n",
    "df = pd.DataFrame({'A': [2,3,1],\n",
    "'B': [1,2,3],\n",
    "'C': [5,3,4]})\n",
    "df = df.drop(df.index[[1]])\n",
    "print(df)\n",
    "df = df.drop('B', 1)\n",
    "print()\n",
    "print(df)\n"
   ]
  },
  {
   "cell_type": "code",
   "execution_count": null,
   "id": "00be7d65",
   "metadata": {},
   "outputs": [],
   "source": []
  }
 ],
 "metadata": {
  "kernelspec": {
   "display_name": "Python 3 (ipykernel)",
   "language": "python",
   "name": "python3"
  },
  "language_info": {
   "codemirror_mode": {
    "name": "ipython",
    "version": 3
   },
   "file_extension": ".py",
   "mimetype": "text/x-python",
   "name": "python",
   "nbconvert_exporter": "python",
   "pygments_lexer": "ipython3",
   "version": "3.9.12"
  }
 },
 "nbformat": 4,
 "nbformat_minor": 5
}

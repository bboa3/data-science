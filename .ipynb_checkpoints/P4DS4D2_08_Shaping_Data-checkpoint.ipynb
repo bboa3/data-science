{
 "cells": [
  {
   "cell_type": "code",
   "execution_count": 2,
   "id": "4c579fac",
   "metadata": {},
   "outputs": [
    {
     "name": "stdout",
     "output_type": "stream",
     "text": [
      "<module 'nltk' from 'C:\\\\ProgramData\\\\Anaconda3\\\\lib\\\\site-packages\\\\nltk\\\\__init__.py'>\n"
     ]
    }
   ],
   "source": [
    "import nltk\n",
    "\n",
    "print(nltk)"
   ]
  },
  {
   "cell_type": "code",
   "execution_count": 3,
   "id": "1772e7b4",
   "metadata": {},
   "outputs": [
    {
     "name": "stdout",
     "output_type": "stream",
     "text": [
      "<class 'sklearn.ensemble._forest.RandomForestClassifier'>\n"
     ]
    }
   ],
   "source": [
    "from sklearn.ensemble import RandomForestClassifier\n",
    "print(RandomForestClassifier)"
   ]
  },
  {
   "cell_type": "code",
   "execution_count": 12,
   "id": "c0dfbe0c",
   "metadata": {},
   "outputs": [
    {
     "name": "stdout",
     "output_type": "stream",
     "text": [
      "['big', 'count', 'creat', 'dataset', 'differnt', 'featur', 'hello', 'jame', 'notebook', 'python', 'thi', 'tri', 'vector', 'word']\n",
      "[[0 0 0 0 1 0 0 1 0 0 0 1 0 1]]\n"
     ]
    }
   ],
   "source": [
    "from sklearn.feature_extraction.text import CountVectorizer\n",
    "from nltk import word_tokenize\n",
    "from nltk.stem.porter import PorterStemmer\n",
    "\n",
    "stemmer = PorterStemmer()\n",
    "\n",
    "def stem_tokens(tokens):\n",
    "    stemmed = []\n",
    "    for item in tokens:\n",
    "        stemmed.append(stemmer.stem(item))\n",
    "    return stemmed\n",
    "\n",
    "def tokenize(text):\n",
    "    tokens = word_tokenize(text)\n",
    "    stems = stem_tokens(tokens)\n",
    "    return stems\n",
    "\n",
    "vocabulary = ['Hello my name is james',\n",
    "    'james this is my python notebook',\n",
    "    'james trying to create a big dataset',\n",
    "    'james of words to try differnt',\n",
    "    'features of count vectorizer']\n",
    "\n",
    "vectorized = CountVectorizer(tokenizer=tokenize, stop_words='english')\n",
    "\n",
    "vec = vectorized.fit(vocabulary)\n",
    "sentence1 = vec.transform(['jame words to try differnt'])\n",
    "print(vec.get_feature_names())\n",
    "print(sentence1.toarray())\n"
   ]
  },
  {
   "cell_type": "code",
   "execution_count": 16,
   "id": "208f0b36",
   "metadata": {},
   "outputs": [
    {
     "name": "stdout",
     "output_type": "stream",
     "text": [
      "BOW shape: (2356, 34750)\n",
      "\"Caltech\": 3\n"
     ]
    }
   ],
   "source": [
    "from sklearn.datasets import fetch_20newsgroups\n",
    "from sklearn.feature_extraction.text import CountVectorizer\n",
    "\n",
    "categories = ['comp.graphics', 'misc.forsale', 'rec.autos', 'sci.space']\n",
    "\n",
    "twenty_train = fetch_20newsgroups(subset='train', categories=categories, shuffle=True, random_state=42)\n",
    "\n",
    "count_vect = CountVectorizer()\n",
    "\n",
    "X_train_counts = count_vect.fit_transform(twenty_train.data)\n",
    "\n",
    "print(\"BOW shape:\", X_train_counts.shape)\n",
    "\n",
    "caltech_idx = count_vect.vocabulary_['caltech']\n",
    "\n",
    "print('\"Caltech\": %i' % X_train_counts[0, caltech_idx])"
   ]
  },
  {
   "cell_type": "code",
   "execution_count": 26,
   "id": "cbb374e2",
   "metadata": {},
   "outputs": [
    {
     "name": "stdout",
     "output_type": "stream",
     "text": [
      "\"Caltech\" scored in a BOW:\n",
      "count: 3.000\n",
      "TF-IDF: 0.123\n"
     ]
    }
   ],
   "source": [
    "from sklearn.datasets import fetch_20newsgroups\n",
    "from sklearn.feature_extraction.text import CountVectorizer\n",
    "\n",
    "categories = ['comp.graphics', 'misc.forsale', 'rec.autos', 'sci.space']\n",
    "\n",
    "twenty_train = fetch_20newsgroups(subset='train', categories=categories, shuffle=True, random_state=42)\n",
    "\n",
    "count_vect = CountVectorizer()\n",
    "\n",
    "X_train_counts = count_vect.fit_transform(twenty_train.data)\n",
    "\n",
    "tfidf = TfidfTransformer().fit(X_train_counts)\n",
    "\n",
    "X_train_tfidf = tfidf.transform(X_train_counts)\n",
    "\n",
    "caltech_idx = count_vect.vocabulary_['caltech']\n",
    "\n",
    "print('\"Caltech\" scored in a BOW:')\n",
    "print('count: %0.3f' % X_train_counts[0, caltech_idx])\n",
    "print('TF-IDF: %0.3f' % X_train_tfidf[0, caltech_idx])"
   ]
  },
  {
   "cell_type": "code",
   "execution_count": null,
   "id": "9d2623d1",
   "metadata": {},
   "outputs": [],
   "source": []
  }
 ],
 "metadata": {
  "kernelspec": {
   "display_name": "Python 3 (ipykernel)",
   "language": "python",
   "name": "python3"
  },
  "language_info": {
   "codemirror_mode": {
    "name": "ipython",
    "version": 3
   },
   "file_extension": ".py",
   "mimetype": "text/x-python",
   "name": "python",
   "nbconvert_exporter": "python",
   "pygments_lexer": "ipython3",
   "version": "3.9.12"
  }
 },
 "nbformat": 4,
 "nbformat_minor": 5
}
